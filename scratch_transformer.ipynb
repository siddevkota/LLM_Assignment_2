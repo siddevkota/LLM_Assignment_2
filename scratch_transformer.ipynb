{
 "cells": [
  {
   "cell_type": "code",
   "execution_count": 1,
   "metadata": {},
   "outputs": [],
   "source": [
    "import torch\n",
    "import torch.nn as nn\n",
    "import torch.optim as optim\n",
    "from torch.utils.data import Dataset, DataLoader\n",
    "from transformers import AutoTokenizer\n",
    "from datasets import load_dataset\n",
    "from sklearn.model_selection import train_test_split\n",
    "import math\n",
    "import numpy as np\n",
    "import matplotlib.pyplot as plt\n",
    "from tqdm import tqdm"
   ]
  },
  {
   "cell_type": "code",
   "execution_count": 2,
   "metadata": {},
   "outputs": [],
   "source": [
    "class InputEmbeddings(nn.Module):\n",
    "    def __init__(self, vocab_size, d_model):\n",
    "        super().__init__()\n",
    "        self.embed = nn.Embedding(vocab_size, d_model)\n",
    "        self.d_model = d_model\n",
    "    def forward(self, x):\n",
    "        return self.embed(x) * math.sqrt(self.d_model)\n",
    "\n",
    "class PositionalEncoding(nn.Module):\n",
    "    def __init__(self, d_model, max_len=5000):\n",
    "        super().__init__()\n",
    "        pe = torch.zeros(max_len, d_model)\n",
    "        position = torch.arange(0, max_len, dtype=torch.float).unsqueeze(1)\n",
    "        div_term = torch.exp(torch.arange(0, d_model, 2).float() * (-math.log(10000.0) / d_model))\n",
    "        pe[:, 0::2] = torch.sin(position * div_term)\n",
    "        pe[:, 1::2] = torch.cos(position * div_term)\n",
    "        self.register_buffer('pe', pe.unsqueeze(0))\n",
    "    def forward(self, x):\n",
    "        return x + self.pe[:, :x.size(1)]"
   ]
  },
  {
   "cell_type": "code",
   "execution_count": 3,
   "metadata": {},
   "outputs": [],
   "source": [
    "class LayerNormalization(nn.Module):\n",
    "    def __init__(self, d_model, eps=1e-6):\n",
    "        super().__init__()\n",
    "        self.norm = nn.LayerNorm(d_model, eps=eps)\n",
    "    def forward(self, x):\n",
    "        return self.norm(x)"
   ]
  },
  {
   "cell_type": "code",
   "execution_count": 4,
   "metadata": {},
   "outputs": [],
   "source": [
    "class FeedForwardBlock(nn.Module):\n",
    "    def __init__(self, d_model, d_ff):\n",
    "        super().__init__()\n",
    "        self.linear1 = nn.Linear(d_model, d_ff)\n",
    "        self.relu = nn.ReLU()\n",
    "        self.linear2 = nn.Linear(d_ff, d_model)\n",
    "    def forward(self, x):\n",
    "        return self.linear2(self.relu(self.linear1(x)))"
   ]
  },
  {
   "cell_type": "code",
   "execution_count": 5,
   "metadata": {},
   "outputs": [],
   "source": [
    "class MultiHeadAttentionBlock(nn.Module):\n",
    "    def __init__(self, d_model, num_heads):\n",
    "        super().__init__()\n",
    "        assert d_model % num_heads == 0\n",
    "        self.d_k = d_model // num_heads\n",
    "        self.num_heads = num_heads\n",
    "        self.W_q = nn.Linear(d_model, d_model)\n",
    "        self.W_k = nn.Linear(d_model, d_model)\n",
    "        self.W_v = nn.Linear(d_model, d_model)\n",
    "        self.W_o = nn.Linear(d_model, d_model)\n",
    "        self.attn_weights = None  # For visualization\n",
    "    def forward(self, q, k, v, mask=None):\n",
    "        B, S_q, D = q.size()\n",
    "        S_k = k.size(1)\n",
    "        q = self.W_q(q).view(B, S_q, self.num_heads, self.d_k).transpose(1,2)  # (B, h, S_q, d_k)\n",
    "        k = self.W_k(k).view(B, S_k, self.num_heads, self.d_k).transpose(1,2)  # (B, h, S_k, d_k)\n",
    "        v = self.W_v(v).view(B, S_k, self.num_heads, self.d_k).transpose(1,2)  # (B, h, S_k, d_k)\n",
    "        scores = torch.matmul(q, k.transpose(-2, -1)) / math.sqrt(self.d_k)      # (B, h, S_q, S_k)\n",
    "        if mask is not None:\n",
    "            # mask shape should be broadcastable to (B, 1, S_q, S_k)\n",
    "            scores = scores.masked_fill(mask == 0, float('-inf'))\n",
    "        attn = torch.softmax(scores, dim=-1)\n",
    "        self.attn_weights = attn.detach().cpu()\n",
    "        context = torch.matmul(attn, v)  # (B, h, S_q, d_k)\n",
    "        context = context.transpose(1,2).contiguous().view(B, S_q, D)\n",
    "        return self.W_o(context)"
   ]
  },
  {
   "cell_type": "code",
   "execution_count": 6,
   "metadata": {},
   "outputs": [],
   "source": [
    "class ResidualConnection(nn.Module):\n",
    "    def __init__(self, d_model, dropout=0.1):\n",
    "        super().__init__()\n",
    "        self.norm = LayerNormalization(d_model)\n",
    "        self.dropout = nn.Dropout(dropout)\n",
    "    def forward(self, x, sublayer):\n",
    "        return x + self.dropout(sublayer(self.norm(x)))"
   ]
  },
  {
   "cell_type": "code",
   "execution_count": 7,
   "metadata": {},
   "outputs": [],
   "source": [
    "class EncoderBlock(nn.Module):\n",
    "    def __init__(self, d_model, num_heads, d_ff, dropout=0.1):\n",
    "        super().__init__()\n",
    "        self.attn = MultiHeadAttentionBlock(d_model, num_heads)\n",
    "        self.res1 = ResidualConnection(d_model, dropout)\n",
    "        self.ff = FeedForwardBlock(d_model, d_ff)\n",
    "        self.res2 = ResidualConnection(d_model, dropout)\n",
    "    def forward(self, x, src_mask):\n",
    "        x = self.res1(x, lambda x: self.attn(x, x, x, src_mask))\n",
    "        x = self.res2(x, self.ff)\n",
    "        return x"
   ]
  },
  {
   "cell_type": "code",
   "execution_count": 8,
   "metadata": {},
   "outputs": [],
   "source": [
    "class DecoderBlock(nn.Module):\n",
    "    def __init__(self, d_model, num_heads, d_ff, dropout=0.1):\n",
    "        super().__init__()\n",
    "        self.self_attn = MultiHeadAttentionBlock(d_model, num_heads)\n",
    "        self.res1 = ResidualConnection(d_model, dropout)\n",
    "        self.cross_attn = MultiHeadAttentionBlock(d_model, num_heads)\n",
    "        self.res2 = ResidualConnection(d_model, dropout)\n",
    "        self.ff = FeedForwardBlock(d_model, d_ff)\n",
    "        self.res3 = ResidualConnection(d_model, dropout)\n",
    "    def forward(self, x, enc_out, tgt_mask, src_mask):\n",
    "        x = self.res1(x, lambda x: self.self_attn(x, x, x, tgt_mask))\n",
    "        x = self.res2(x, lambda x: self.cross_attn(x, enc_out, enc_out, src_mask))\n",
    "        x = self.res3(x, self.ff)\n",
    "        return x"
   ]
  },
  {
   "cell_type": "code",
   "execution_count": 9,
   "metadata": {},
   "outputs": [],
   "source": [
    "class ProjectionLayer(nn.Module):\n",
    "    def __init__(self, d_model, vocab_size):\n",
    "        super().__init__()\n",
    "        self.proj = nn.Linear(d_model, vocab_size)\n",
    "    def forward(self, x):\n",
    "        return self.proj(x)"
   ]
  },
  {
   "cell_type": "code",
   "execution_count": 10,
   "metadata": {},
   "outputs": [],
   "source": [
    "class Transformer(nn.Module):\n",
    "    def __init__(self, src_vocab_size, tgt_vocab_size, d_model=32, num_heads=2, d_ff=64, num_layers=2, max_len=32):\n",
    "        super().__init__()\n",
    "        self.src_embed = InputEmbeddings(src_vocab_size, d_model)\n",
    "        self.tgt_embed = InputEmbeddings(tgt_vocab_size, d_model)\n",
    "        self.src_pos = PositionalEncoding(d_model, max_len)\n",
    "        self.tgt_pos = PositionalEncoding(d_model, max_len)\n",
    "        self.encoder = nn.ModuleList([EncoderBlock(d_model, num_heads, d_ff) for _ in range(num_layers)])\n",
    "        self.decoder = nn.ModuleList([DecoderBlock(d_model, num_heads, d_ff) for _ in range(num_layers)])\n",
    "        self.proj = ProjectionLayer(d_model, tgt_vocab_size)\n",
    "    def encode(self, src, src_mask):\n",
    "        x = self.src_pos(self.src_embed(src))\n",
    "        for layer in self.encoder:\n",
    "            x = layer(x, src_mask)\n",
    "        return x\n",
    "    def decode(self, tgt, enc_out, tgt_mask, src_mask):\n",
    "        x = self.tgt_pos(self.tgt_embed(tgt))\n",
    "        for layer in self.decoder:\n",
    "            x = layer(x, enc_out, tgt_mask, src_mask)\n",
    "        return x\n",
    "    def forward(self, src, tgt, src_mask, tgt_mask):\n",
    "        enc_out = self.encode(src, src_mask)\n",
    "        dec_out = self.decode(tgt, enc_out, tgt_mask, src_mask)\n",
    "        return self.proj(dec_out)"
   ]
  },
  {
   "cell_type": "code",
   "execution_count": 11,
   "metadata": {},
   "outputs": [],
   "source": [
    "def create_src_mask(src, pad_idx):\n",
    "    return (src != pad_idx).unsqueeze(1).unsqueeze(2)  # (B,1,1,S)\n",
    "\n",
    "def create_tgt_mask(tgt, pad_idx):\n",
    "    B, S = tgt.size()\n",
    "    pad_mask = (tgt != pad_idx).unsqueeze(1).unsqueeze(2)  # (B,1,1,S)\n",
    "    subsequent_mask = torch.tril(torch.ones((S, S), device=tgt.device)).bool()  # (S,S)\n",
    "    return pad_mask & subsequent_mask  # (B,1,S,S)"
   ]
  },
  {
   "cell_type": "code",
   "execution_count": 12,
   "metadata": {},
   "outputs": [],
   "source": [
    "class OpusBooksDataset(Dataset):\n",
    "    def __init__(self, src_texts, tgt_texts, src_tokenizer, tgt_tokenizer, max_len=16):\n",
    "        self.src_tokenizer = src_tokenizer\n",
    "        self.tgt_tokenizer = tgt_tokenizer\n",
    "        self.max_len = max_len\n",
    "        self.data = []\n",
    "        for src, tgt in zip(src_texts, tgt_texts):\n",
    "            src_enc = src_tokenizer(src, padding='max_length', truncation=True, max_length=max_len, return_tensors='pt')\n",
    "            tgt_enc = tgt_tokenizer(tgt, padding='max_length', truncation=True, max_length=max_len, return_tensors='pt')\n",
    "            src_ids = src_enc['input_ids'].squeeze(0)\n",
    "            tgt_ids = tgt_enc['input_ids'].squeeze(0)\n",
    "            self.data.append((src_ids, tgt_ids))\n",
    "    def __len__(self):\n",
    "        return len(self.data)\n",
    "    def __getitem__(self, idx):\n",
    "        src = self.data[idx][0]\n",
    "        tgt = self.data[idx][1]\n",
    "        return src, tgt[:-1], tgt[1:]  # input, target"
   ]
  },
  {
   "cell_type": "code",
   "execution_count": 13,
   "metadata": {},
   "outputs": [],
   "source": [
    "def get_tokenizers():\n",
    "    src_tokenizer = AutoTokenizer.from_pretrained(\"bert-base-uncased\")\n",
    "    tgt_tokenizer = AutoTokenizer.from_pretrained(\"camembert-base\")\n",
    "    return src_tokenizer, tgt_tokenizer"
   ]
  },
  {
   "cell_type": "code",
   "execution_count": 14,
   "metadata": {},
   "outputs": [],
   "source": [
    "def train():\n",
    "    # Tokenizers\n",
    "    src_tokenizer, tgt_tokenizer = get_tokenizers()\n",
    "    src_pad_idx = src_tokenizer.pad_token_id\n",
    "    tgt_pad_idx = tgt_tokenizer.pad_token_id\n",
    "\n",
    "    # Dataset\n",
    "    dataset = load_dataset(\"opus_books\", \"en-fr\", split=\"train\")\n",
    "    src_texts = [x[\"translation\"][\"en\"] for x in dataset]\n",
    "    tgt_texts = [x[\"translation\"][\"fr\"] for x in dataset]\n",
    "    src_train, src_val, tgt_train, tgt_val = train_test_split(src_texts, tgt_texts, test_size=0.2, random_state=42)\n",
    "    max_len = 32\n",
    "    train_data = OpusBooksDataset(src_train, tgt_train, src_tokenizer, tgt_tokenizer, max_len)\n",
    "    val_data = OpusBooksDataset(src_val, tgt_val, src_tokenizer, tgt_tokenizer, max_len)\n",
    "    train_loader = DataLoader(train_data, batch_size=32, shuffle=True)\n",
    "    val_loader = DataLoader(val_data, batch_size=32)\n",
    "\n",
    "    # Model\n",
    "    device = torch.device(\"cuda\" if torch.cuda.is_available() else \"cpu\")\n",
    "    model = Transformer(\n",
    "        src_vocab_size=src_tokenizer.vocab_size,\n",
    "        tgt_vocab_size=tgt_tokenizer.vocab_size,\n",
    "        d_model=128, num_heads=8, d_ff=64, num_layers=2, max_len=max_len\n",
    "    ).to(device)\n",
    "    optimizer = optim.Adam(model.parameters(), lr=0.001)\n",
    "    criterion = nn.CrossEntropyLoss(ignore_index=tgt_pad_idx)\n",
    "\n",
    "    train_losses, val_losses, attn_weights = [], [], []\n",
    "\n",
    "    for epoch in range(20):\n",
    "        model.train()\n",
    "        total_loss = 0\n",
    "        train_bar = tqdm(train_loader, desc=f\"Epoch {epoch+1} [Train]\", leave=False)\n",
    "        for src, tgt_in, tgt_out in train_bar:\n",
    "            src, tgt_in, tgt_out = src.to(device), tgt_in.to(device), tgt_out.to(device)\n",
    "            src_mask = create_src_mask(src, src_pad_idx)\n",
    "            tgt_mask = create_tgt_mask(tgt_in, tgt_pad_idx)\n",
    "            optimizer.zero_grad()\n",
    "            output = model(src, tgt_in, src_mask, tgt_mask)\n",
    "            loss = criterion(output.view(-1, output.size(-1)), tgt_out.view(-1))\n",
    "            loss.backward()\n",
    "            optimizer.step()\n",
    "            total_loss += loss.item()\n",
    "            train_bar.set_postfix(loss=loss.item())\n",
    "        train_losses.append(total_loss/len(train_loader))\n",
    "\n",
    "        # Save attention weights from the first batch of the last epoch layer for visualization\n",
    "        attn = model.encoder[0].attn.attn_weights\n",
    "        if attn is not None:\n",
    "            attn_weights.append(attn[0,0].cpu().numpy())  # (seq, seq) for first head, first sample\n",
    "\n",
    "        # Validation\n",
    "        model.eval()\n",
    "        val_loss = 0\n",
    "        val_bar = tqdm(val_loader, desc=f\"Epoch {epoch+1} [Val]\", leave=False)\n",
    "        with torch.no_grad():\n",
    "            for src, tgt_in, tgt_out in val_bar:\n",
    "                src, tgt_in, tgt_out = src.to(device), tgt_in.to(device), tgt_out.to(device)\n",
    "                src_mask = create_src_mask(src, src_pad_idx)\n",
    "                tgt_mask = create_tgt_mask(tgt_in, tgt_pad_idx)\n",
    "                output = model(src, tgt_in, src_mask, tgt_mask)\n",
    "                loss = criterion(output.view(-1, output.size(-1)), tgt_out.view(-1))\n",
    "                val_loss += loss.item()\n",
    "                val_bar.set_postfix(loss=loss.item())\n",
    "        val_losses.append(val_loss/len(val_loader))\n",
    "        print(f\"Epoch {epoch+1} | Train Loss: {train_losses[-1]:.4f} | Val Loss: {val_losses[-1]:.4f}\")\n",
    "\n",
    "    # Save for Streamlit\n",
    "    np.save(\"train_losses.npy\", np.array(train_losses))\n",
    "    np.save(\"val_losses.npy\", np.array(val_losses))\n",
    "    np.save(\"attn_weights.npy\", np.array(attn_weights))\n",
    "\n",
    "    # Plot and save loss curve\n",
    "    plt.plot(train_losses, label=\"Train Loss\")\n",
    "    plt.plot(val_losses, label=\"Validation Loss\")\n",
    "    plt.xlabel(\"Epoch\")\n",
    "    plt.ylabel(\"Loss\")\n",
    "    plt.title(\"Train vs Validation Loss\")\n",
    "    plt.legend()\n",
    "    plt.savefig(\"loss_curve.png\")\n",
    "    plt.close()\n",
    "\n",
    "    return model, src_tokenizer, tgt_tokenizer, max_len"
   ]
  },
  {
   "cell_type": "code",
   "execution_count": 15,
   "metadata": {},
   "outputs": [],
   "source": [
    "def greedy_decode(model, src_sentence, src_tokenizer, tgt_tokenizer, max_len=16):\n",
    "    device = next(model.parameters()).device\n",
    "    src = src_tokenizer(src_sentence, padding='max_length', truncation=True, max_length=max_len, return_tensors='pt')['input_ids'].to(device)\n",
    "    src_mask = create_src_mask(src, src_tokenizer.pad_token_id)\n",
    "    enc_out = model.encode(src, src_mask)\n",
    "    tgt = torch.tensor([[tgt_tokenizer.cls_token_id]]).to(device)\n",
    "    for _ in range(max_len-1):\n",
    "        tgt_mask = create_tgt_mask(tgt, tgt_tokenizer.pad_token_id)\n",
    "        dec_out = model.decode(tgt, enc_out, tgt_mask, src_mask)\n",
    "        logits = model.proj(dec_out)\n",
    "        next_token = logits[:, -1, :].argmax(dim=-1, keepdim=True)\n",
    "        tgt = torch.cat([tgt, next_token], dim=1)\n",
    "        if next_token.item() == tgt_tokenizer.sep_token_id:\n",
    "            break\n",
    "    tokens = tgt_tokenizer.convert_ids_to_tokens(tgt[0].tolist())\n",
    "    return tgt_tokenizer.convert_tokens_to_string(tokens[1:-1])  # skip BOS and EOS"
   ]
  },
  {
   "cell_type": "code",
   "execution_count": 16,
   "metadata": {},
   "outputs": [
    {
     "data": {
      "application/vnd.jupyter.widget-view+json": {
       "model_id": "af9747a0201f4c4886258009b12d0542",
       "version_major": 2,
       "version_minor": 0
      },
      "text/plain": [
       "tokenizer_config.json:   0%|          | 0.00/48.0 [00:00<?, ?B/s]"
      ]
     },
     "metadata": {},
     "output_type": "display_data"
    },
    {
     "data": {
      "application/vnd.jupyter.widget-view+json": {
       "model_id": "8c0d6ace9f614365bf84996bd9c38920",
       "version_major": 2,
       "version_minor": 0
      },
      "text/plain": [
       "config.json:   0%|          | 0.00/570 [00:00<?, ?B/s]"
      ]
     },
     "metadata": {},
     "output_type": "display_data"
    },
    {
     "data": {
      "application/vnd.jupyter.widget-view+json": {
       "model_id": "b9abb8151da2491bb9bd70d3173fb7c3",
       "version_major": 2,
       "version_minor": 0
      },
      "text/plain": [
       "vocab.txt:   0%|          | 0.00/232k [00:00<?, ?B/s]"
      ]
     },
     "metadata": {},
     "output_type": "display_data"
    },
    {
     "data": {
      "application/vnd.jupyter.widget-view+json": {
       "model_id": "2d565e66ba8d4086aee05f70f9474b15",
       "version_major": 2,
       "version_minor": 0
      },
      "text/plain": [
       "tokenizer.json:   0%|          | 0.00/466k [00:00<?, ?B/s]"
      ]
     },
     "metadata": {},
     "output_type": "display_data"
    },
    {
     "data": {
      "application/vnd.jupyter.widget-view+json": {
       "model_id": "0345a35254ea43099b49548f99741d01",
       "version_major": 2,
       "version_minor": 0
      },
      "text/plain": [
       "tokenizer_config.json:   0%|          | 0.00/25.0 [00:00<?, ?B/s]"
      ]
     },
     "metadata": {},
     "output_type": "display_data"
    },
    {
     "data": {
      "application/vnd.jupyter.widget-view+json": {
       "model_id": "42977caca1d843ac912e777682099014",
       "version_major": 2,
       "version_minor": 0
      },
      "text/plain": [
       "config.json:   0%|          | 0.00/508 [00:00<?, ?B/s]"
      ]
     },
     "metadata": {},
     "output_type": "display_data"
    },
    {
     "data": {
      "application/vnd.jupyter.widget-view+json": {
       "model_id": "59b98ef0b66e45cdb9206c4f95e3527b",
       "version_major": 2,
       "version_minor": 0
      },
      "text/plain": [
       "sentencepiece.bpe.model:   0%|          | 0.00/811k [00:00<?, ?B/s]"
      ]
     },
     "metadata": {},
     "output_type": "display_data"
    },
    {
     "data": {
      "application/vnd.jupyter.widget-view+json": {
       "model_id": "f52469154884403193f316cc7a96a5b1",
       "version_major": 2,
       "version_minor": 0
      },
      "text/plain": [
       "tokenizer.json:   0%|          | 0.00/1.40M [00:00<?, ?B/s]"
      ]
     },
     "metadata": {},
     "output_type": "display_data"
    },
    {
     "data": {
      "application/vnd.jupyter.widget-view+json": {
       "model_id": "d748d7b1863a4ea7a5e9a624da9d74d3",
       "version_major": 2,
       "version_minor": 0
      },
      "text/plain": [
       "README.md:   0%|          | 0.00/28.1k [00:00<?, ?B/s]"
      ]
     },
     "metadata": {},
     "output_type": "display_data"
    },
    {
     "data": {
      "application/vnd.jupyter.widget-view+json": {
       "model_id": "f6f022e403ef457c89a6831f9b22a2f6",
       "version_major": 2,
       "version_minor": 0
      },
      "text/plain": [
       "train-00000-of-00001.parquet:   0%|          | 0.00/21.0M [00:00<?, ?B/s]"
      ]
     },
     "metadata": {},
     "output_type": "display_data"
    },
    {
     "data": {
      "application/vnd.jupyter.widget-view+json": {
       "model_id": "d156bd3d129744089063d0073da91101",
       "version_major": 2,
       "version_minor": 0
      },
      "text/plain": [
       "Generating train split:   0%|          | 0/127085 [00:00<?, ? examples/s]"
      ]
     },
     "metadata": {},
     "output_type": "display_data"
    },
    {
     "name": "stderr",
     "output_type": "stream",
     "text": [
      "                                                                               \r"
     ]
    },
    {
     "name": "stdout",
     "output_type": "stream",
     "text": [
      "Epoch 1 | Train Loss: 5.6995 | Val Loss: 4.5471\n"
     ]
    },
    {
     "name": "stderr",
     "output_type": "stream",
     "text": [
      "                                                                               \r"
     ]
    },
    {
     "name": "stdout",
     "output_type": "stream",
     "text": [
      "Epoch 2 | Train Loss: 4.3678 | Val Loss: 4.1775\n"
     ]
    },
    {
     "name": "stderr",
     "output_type": "stream",
     "text": [
      "                                                                               \r"
     ]
    },
    {
     "name": "stdout",
     "output_type": "stream",
     "text": [
      "Epoch 3 | Train Loss: 4.0233 | Val Loss: 3.9570\n"
     ]
    },
    {
     "name": "stderr",
     "output_type": "stream",
     "text": [
      "                                                                               \r"
     ]
    },
    {
     "name": "stdout",
     "output_type": "stream",
     "text": [
      "Epoch 4 | Train Loss: 3.7816 | Val Loss: 3.8089\n"
     ]
    },
    {
     "name": "stderr",
     "output_type": "stream",
     "text": [
      "                                                                               \r"
     ]
    },
    {
     "name": "stdout",
     "output_type": "stream",
     "text": [
      "Epoch 5 | Train Loss: 3.5888 | Val Loss: 3.7006\n"
     ]
    },
    {
     "name": "stderr",
     "output_type": "stream",
     "text": [
      "                                                                               \r"
     ]
    },
    {
     "name": "stdout",
     "output_type": "stream",
     "text": [
      "Epoch 6 | Train Loss: 3.4404 | Val Loss: 3.6300\n"
     ]
    },
    {
     "name": "stderr",
     "output_type": "stream",
     "text": [
      "                                                                               \r"
     ]
    },
    {
     "name": "stdout",
     "output_type": "stream",
     "text": [
      "Epoch 7 | Train Loss: 3.3212 | Val Loss: 3.5763\n"
     ]
    },
    {
     "name": "stderr",
     "output_type": "stream",
     "text": [
      "                                                                               \r"
     ]
    },
    {
     "name": "stdout",
     "output_type": "stream",
     "text": [
      "Epoch 8 | Train Loss: 3.2218 | Val Loss: 3.5265\n"
     ]
    },
    {
     "name": "stderr",
     "output_type": "stream",
     "text": [
      "                                                                               \r"
     ]
    },
    {
     "name": "stdout",
     "output_type": "stream",
     "text": [
      "Epoch 9 | Train Loss: 3.1364 | Val Loss: 3.4965\n"
     ]
    },
    {
     "name": "stderr",
     "output_type": "stream",
     "text": [
      "                                                                                \r"
     ]
    },
    {
     "name": "stdout",
     "output_type": "stream",
     "text": [
      "Epoch 10 | Train Loss: 3.0587 | Val Loss: 3.4700\n"
     ]
    },
    {
     "name": "stderr",
     "output_type": "stream",
     "text": [
      "                                                                                \r"
     ]
    },
    {
     "name": "stdout",
     "output_type": "stream",
     "text": [
      "Epoch 11 | Train Loss: 2.9924 | Val Loss: 3.4604\n"
     ]
    },
    {
     "name": "stderr",
     "output_type": "stream",
     "text": [
      "                                                                                \r"
     ]
    },
    {
     "name": "stdout",
     "output_type": "stream",
     "text": [
      "Epoch 12 | Train Loss: 2.9325 | Val Loss: 3.4534\n"
     ]
    },
    {
     "name": "stderr",
     "output_type": "stream",
     "text": [
      "                                                                                \r"
     ]
    },
    {
     "name": "stdout",
     "output_type": "stream",
     "text": [
      "Epoch 13 | Train Loss: 2.8769 | Val Loss: 3.4441\n"
     ]
    },
    {
     "name": "stderr",
     "output_type": "stream",
     "text": [
      "                                                                                \r"
     ]
    },
    {
     "name": "stdout",
     "output_type": "stream",
     "text": [
      "Epoch 14 | Train Loss: 2.8267 | Val Loss: 3.4479\n"
     ]
    },
    {
     "name": "stderr",
     "output_type": "stream",
     "text": [
      "                                                                                \r"
     ]
    },
    {
     "name": "stdout",
     "output_type": "stream",
     "text": [
      "Epoch 15 | Train Loss: 2.7790 | Val Loss: 3.4091\n"
     ]
    },
    {
     "name": "stderr",
     "output_type": "stream",
     "text": [
      "                                                                                \r"
     ]
    },
    {
     "name": "stdout",
     "output_type": "stream",
     "text": [
      "Epoch 16 | Train Loss: 2.7353 | Val Loss: 3.4241\n"
     ]
    },
    {
     "name": "stderr",
     "output_type": "stream",
     "text": [
      "                                                                                \r"
     ]
    },
    {
     "name": "stdout",
     "output_type": "stream",
     "text": [
      "Epoch 17 | Train Loss: 2.6930 | Val Loss: 3.4251\n"
     ]
    },
    {
     "name": "stderr",
     "output_type": "stream",
     "text": [
      "                                                                                \r"
     ]
    },
    {
     "name": "stdout",
     "output_type": "stream",
     "text": [
      "Epoch 18 | Train Loss: 2.6545 | Val Loss: 3.4360\n"
     ]
    },
    {
     "name": "stderr",
     "output_type": "stream",
     "text": [
      "                                                                                \r"
     ]
    },
    {
     "name": "stdout",
     "output_type": "stream",
     "text": [
      "Epoch 19 | Train Loss: 2.6176 | Val Loss: 3.4282\n"
     ]
    },
    {
     "name": "stderr",
     "output_type": "stream",
     "text": [
      "                                                                                \r"
     ]
    },
    {
     "name": "stdout",
     "output_type": "stream",
     "text": [
      "Epoch 20 | Train Loss: 2.5822 | Val Loss: 3.4414\n",
      "\n",
      "EN: This is a book.\n",
      "FR (predicted): C’est un livre.\n"
     ]
    }
   ],
   "source": [
    "if __name__ == \"__main__\":\n",
    "    model, src_tokenizer, tgt_tokenizer, max_len = train()\n",
    "    test_sent = \"This is a book.\"\n",
    "    print(\"\\nEN:\", test_sent)\n",
    "    print(\"FR (predicted):\", greedy_decode(model, test_sent, src_tokenizer, tgt_tokenizer, max_len=max_len))"
   ]
  },
  {
   "cell_type": "code",
   "execution_count": 17,
   "metadata": {},
   "outputs": [],
   "source": [
    "torch.save(model.state_dict(), \"best_model.pt\")"
   ]
  },
  {
   "cell_type": "code",
   "execution_count": null,
   "metadata": {},
   "outputs": [],
   "source": []
  }
 ],
 "metadata": {
  "language_info": {
   "name": "python"
  }
 },
 "nbformat": 4,
 "nbformat_minor": 2
}
